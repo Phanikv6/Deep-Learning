{
  "cells": [
    {
      "cell_type": "code",
      "execution_count": 33,
      "metadata": {
        "id": "3ikLhsPY9xCe"
      },
      "outputs": [],
      "source": [
        "import zipfile\n",
        "import os\n",
        "\n",
        "zip_file_name = \"/Bean_Dataset.zip\"\n",
        "extraction_directory = \"extracted_dataset\"\n",
        "\n",
        "if not os.path.exists(extraction_directory):\n",
        "    os.makedirs(extraction_directory)\n",
        "\n",
        "with zipfile.ZipFile(zip_file_name, 'r') as zip_ref:\n",
        "    zip_ref.extractall(extraction_directory)"
      ]
    },
    {
      "cell_type": "code",
      "execution_count": 37,
      "metadata": {
        "colab": {
          "base_uri": "https://localhost:8080/"
        },
        "id": "aNzJCRMg8k3g",
        "outputId": "4c93921a-73f1-4fae-8d4f-ae09f05a0aa4"
      },
      "outputs": [
        {
          "name": "stdout",
          "output_type": "stream",
          "text": [
            "Dataset split into 792 training images and 198 testing images.\n"
          ]
        }
      ],
      "source": [
        "import torch\n",
        "from torchvision import datasets, transforms\n",
        "from torch.utils.data import DataLoader, random_split\n",
        "\n",
        "# Define data transformations\n",
        "data_transforms = transforms.Compose([\n",
        "    transforms.Resize(256),\n",
        "    transforms.CenterCrop(224),\n",
        "    transforms.ToTensor(),\n",
        "    transforms.Normalize(\n",
        "        mean=[0.485, 0.456, 0.406],\n",
        "        std=[0.229, 0.224, 0.225]\n",
        "    )\n",
        "])\n",
        "\n",
        "# Update data_dir to point to the directory containing the class subfolders\n",
        "data_dir = \"extracted_dataset/Bean_Dataset\"\n",
        "\n",
        "image_dataset = datasets.ImageFolder(\n",
        "    root=data_dir,\n",
        "    transform=data_transforms\n",
        ")\n",
        "\n",
        "#Splitting into trainng and testing data\n",
        "train_size = int(0.8 * len(image_dataset))\n",
        "test_size = len(image_dataset) - train_size\n",
        "train_dataset, test_dataset = random_split(image_dataset, [train_size, test_size])\n",
        "\n",
        "batch_size = 32\n",
        "train_dataloader = DataLoader(\n",
        "    train_dataset,\n",
        "    batch_size=batch_size,\n",
        "    shuffle=True,\n",
        ")\n",
        "\n",
        "test_dataloader = DataLoader(\n",
        "    test_dataset,\n",
        "    batch_size=batch_size,\n",
        "    shuffle=False,\n",
        ")\n",
        "\n",
        "print(f\"Dataset split into {len(train_dataset)} training images and {len(test_dataset)} testing images.\")"
      ]
    },
    {
      "cell_type": "code",
      "execution_count": 38,
      "metadata": {
        "colab": {
          "base_uri": "https://localhost:8080/"
        },
        "id": "92jh5jzw8rPw",
        "outputId": "356d9be2-6887-4c9b-876c-75ba7437e742"
      },
      "outputs": [
        {
          "name": "stdout",
          "output_type": "stream",
          "text": [
            "Feedforward model created with 3 classes.\n"
          ]
        }
      ],
      "source": [
        "import torch.nn as nn\n",
        "import torch.nn.functional as F\n",
        "\n",
        "class FeedforwardNet(nn.Module):\n",
        "    def __init__(self, input_size, num_classes):\n",
        "        super(FeedforwardNet, self).__init__()\n",
        "        self.fc1 = nn.Linear(input_size, 512)\n",
        "        self.relu = nn.ReLU()\n",
        "        self.fc2 = nn.Linear(512, 256)\n",
        "        self.fc3 = nn.Linear(256, num_classes)\n",
        "\n",
        "    def forward(self, x):\n",
        "        x = x.view(x.size(0), -1)\n",
        "        x = self.fc1(x)\n",
        "        x = self.relu(x)\n",
        "        x = self.fc2(x)\n",
        "        x = self.relu(x)\n",
        "        x = self.fc3(x)\n",
        "        return x\n",
        "\n",
        "input_size = 224 * 224 * 3\n",
        "# Correctly setting num_classes based on the dataset\n",
        "num_classes = len(image_dataset.classes)\n",
        "model = FeedforwardNet(input_size, num_classes)\n",
        "print(f\"Feedforward model created with {num_classes} classes.\")"
      ]
    },
    {
      "cell_type": "code",
      "execution_count": 39,
      "metadata": {
        "colab": {
          "base_uri": "https://localhost:8080/"
        },
        "id": "VxjKnZ948wFV",
        "outputId": "da055ab6-9f45-4271-936c-05e764a073a7"
      },
      "outputs": [
        {
          "name": "stdout",
          "output_type": "stream",
          "text": [
            "Loss function (Cross-Entropy) and Optimizer (Adam) defined.\n"
          ]
        }
      ],
      "source": [
        "import torch.optim as optim\n",
        "\n",
        "criterion = nn.CrossEntropyLoss()\n",
        "optimizer = optim.Adam(model.parameters(), lr=0.001)\n",
        "print(\"Loss function (Cross-Entropy) and Optimizer (Adam) defined.\")"
      ]
    },
    {
      "cell_type": "code",
      "execution_count": 40,
      "metadata": {
        "colab": {
          "base_uri": "https://localhost:8080/"
        },
        "id": "J8zG5cLQ80-m",
        "outputId": "f0224126-1a3d-4291-96ec-6fb270632c05"
      },
      "outputs": [
        {
          "name": "stdout",
          "output_type": "stream",
          "text": [
            "Epoch [1/10], Loss: 6.7721\n",
            "Epoch [2/10], Loss: 1.5177\n",
            "Epoch [3/10], Loss: 0.7327\n",
            "Epoch [4/10], Loss: 0.4892\n",
            "Epoch [5/10], Loss: 0.3269\n",
            "Epoch [6/10], Loss: 0.2248\n",
            "Epoch [7/10], Loss: 0.2004\n",
            "Epoch [8/10], Loss: 0.0993\n",
            "Epoch [9/10], Loss: 0.0720\n",
            "Epoch [10/10], Loss: 0.0536\n",
            "Training finished.\n"
          ]
        }
      ],
      "source": [
        "num_epochs = 10\n",
        "\n",
        "\n",
        "device = torch.device(\"cuda\" if torch.cuda.is_available() else \"cpu\")\n",
        "model.to(device)\n",
        "\n",
        "\n",
        "for epoch in range(num_epochs):\n",
        "    model.train()\n",
        "    running_loss = 0.0\n",
        "    for images, labels in train_dataloader:\n",
        "        images = images.to(device)\n",
        "        labels = labels.to(device)\n",
        "\n",
        "        outputs = model(images)\n",
        "        loss = criterion(outputs, labels)\n",
        "\n",
        "        optimizer.zero_grad()\n",
        "        loss.backward()\n",
        "        optimizer.step()\n",
        "\n",
        "        running_loss += loss.item() * images.size(0)\n",
        "\n",
        "#Calculating loss over training data\n",
        "    epoch_loss = running_loss / len(train_dataset)\n",
        "    print(f\"Epoch [{epoch+1}/{num_epochs}], Loss: {epoch_loss:.4f}\")\n",
        "\n",
        "print(\"Training finished.\")"
      ]
    },
    {
      "cell_type": "code",
      "execution_count": 42,
      "metadata": {
        "colab": {
          "base_uri": "https://localhost:8080/"
        },
        "id": "s82f9aAJ86Lh",
        "outputId": "814cef66-73d5-42df-d660-73300440493b"
      },
      "outputs": [
        {
          "name": "stdout",
          "output_type": "stream",
          "text": [
            "Accuracy of the model on the 198 images: 63.13%\n"
          ]
        }
      ],
      "source": [
        "model.eval()\n",
        "with torch.no_grad():\n",
        "    correct = 0\n",
        "    total = 0\n",
        "    for images, labels in test_dataloader:\n",
        "        images = images.to(device)\n",
        "        labels = labels.to(device)\n",
        "        outputs = model(images)\n",
        "        _, predicted = torch.max(outputs.data, 1)\n",
        "        total += labels.size(0)\n",
        "        correct += (predicted == labels).sum().item()\n",
        "\n",
        "    accuracy = 100 * correct / total\n",
        "\n",
        "print(f\"Accuracy of the model on the {total} images: {accuracy:.2f}%\")"
      ]
    },
    {
      "cell_type": "code",
      "execution_count": 43,
      "metadata": {
        "id": "48ccb249"
      },
      "outputs": [],
      "source": [
        "from sklearn.metrics import confusion_matrix, precision_recall_fscore_support\n",
        "\n",
        "true_labels = []\n",
        "predicted_labels = []\n",
        "\n",
        "model.eval()\n",
        "with torch.no_grad():\n",
        "    for images, labels in test_dataloader:\n",
        "        images = images.to(device)\n",
        "        labels = labels.to(device)\n",
        "\n",
        "        outputs = model(images)\n",
        "        _, predicted = torch.max(outputs.data, 1)\n",
        "\n",
        "        true_labels.extend(labels.cpu().numpy())\n",
        "        predicted_labels.extend(predicted.cpu().numpy())"
      ]
    },
    {
      "cell_type": "code",
      "execution_count": 44,
      "metadata": {
        "colab": {
          "base_uri": "https://localhost:8080/"
        },
        "id": "1d4a8f44",
        "outputId": "068242d7-928c-49d8-ee49-e9875c03449e"
      },
      "outputs": [
        {
          "name": "stdout",
          "output_type": "stream",
          "text": [
            "Precision: 0.6757\n",
            "Recall: 0.6313\n",
            "F1-score: 0.6256\n"
          ]
        }
      ],
      "source": [
        "from sklearn.metrics import precision_score, recall_score, f1_score\n",
        "\n",
        "# Calculating precision, recall, and F1-score\n",
        "precision = precision_score(true_labels, predicted_labels, average='weighted')\n",
        "recall = recall_score(true_labels, predicted_labels, average='weighted')\n",
        "f1 = f1_score(true_labels, predicted_labels, average='weighted')\n",
        "\n",
        "print(f\"Precision: {precision:.4f}\")\n",
        "print(f\"Recall: {recall:.4f}\")\n",
        "print(f\"F1-score: {f1:.4f}\")"
      ]
    },
    {
      "cell_type": "code",
      "execution_count": 45,
      "metadata": {
        "colab": {
          "base_uri": "https://localhost:8080/",
          "height": 564
        },
        "id": "8c96ad57",
        "outputId": "eef4f9b0-f90c-4c4a-96c6-87c2e7b57025"
      },
      "outputs": [
        {
          "data": {
            "image/png": "[encoded data removed]",
            "text/plain": [
              "<Figure size 800x600 with 2 Axes>"
            ]
          },
          "metadata": {},
          "output_type": "display_data"
        }
      ],
      "source": [
        "import matplotlib.pyplot as plt\n",
        "import seaborn as sns\n",
        "from sklearn.metrics import confusion_matrix\n",
        "\n",
        "cm = confusion_matrix(true_labels, predicted_labels)\n",
        "\n",
        "plt.figure(figsize=(8, 6))\n",
        "sns.heatmap(cm, annot=True, fmt='d', cmap='Blues', xticklabels=image_dataset.classes, yticklabels=image_dataset.classes)\n",
        "plt.xlabel('Predicted Labels')\n",
        "plt.ylabel('True Labels')\n",
        "plt.title('Confusion Matrix')\n",
        "plt.show()"
      ]
    },
    {
      "cell_type": "code",
      "execution_count": 46,
      "metadata": {
        "colab": {
          "base_uri": "https://localhost:8080/"
        },
        "id": "d92c0fc1",
        "outputId": "c4e1103a-f4c7-4fcc-fbec-643c9ae753de"
      },
      "outputs": [
        {
          "name": "stdout",
          "output_type": "stream",
          "text": [
            "CNN model created with 3 classes.\n"
          ]
        }
      ],
      "source": [
        "import torch.nn as nn\n",
        "import torch.nn.functional as F\n",
        "\n",
        "class CNNModel(nn.Module):\n",
        "    def __init__(self, num_classes):\n",
        "        super(CNNModel, self).__init__()\n",
        "        self.conv1 = nn.Conv2d(in_channels=3, out_channels=16, kernel_size=3, padding=1)\n",
        "        self.relu1 = nn.ReLU()\n",
        "        self.pool1 = nn.MaxPool2d(kernel_size=2, stride=2)\n",
        "\n",
        "        self.conv2 = nn.Conv2d(in_channels=16, out_channels=32, kernel_size=3, padding=1)\n",
        "        self.relu2 = nn.ReLU()\n",
        "        self.pool2 = nn.MaxPool2d(kernel_size=2, stride=2)\n",
        "\n",
        "        self.fc1 = nn.Linear(32 * 56 * 56, 128)\n",
        "        self.relu3 = nn.ReLU()\n",
        "        self.fc2 = nn.Linear(128, num_classes)\n",
        "\n",
        "    def forward(self, x):\n",
        "        x = self.conv1(x)\n",
        "        x = self.relu1(x)\n",
        "        x = self.pool1(x)\n",
        "\n",
        "        x = self.conv2(x)\n",
        "        x = self.relu2(x)\n",
        "        x = self.pool2(x)\n",
        "\n",
        "        x = x.view(x.size(0), -1)\n",
        "\n",
        "        # Apply fully connected layers\n",
        "        x = self.fc1(x)\n",
        "        x = self.relu3(x)\n",
        "        x = self.fc2(x)\n",
        "\n",
        "        return x\n",
        "\n",
        "num_classes = len(image_dataset.classes)\n",
        "cnn_model = CNNModel(num_classes)\n",
        "print(f\"CNN model created with {num_classes} classes.\")"
      ]
    },
    {
      "cell_type": "code",
      "execution_count": 47,
      "metadata": {
        "colab": {
          "base_uri": "https://localhost:8080/"
        },
        "id": "8f29a63a",
        "outputId": "38577f15-0c54-4c40-a157-657584df9f33"
      },
      "outputs": [
        {
          "name": "stdout",
          "output_type": "stream",
          "text": [
            "Loss function (Cross-Entropy) and Optimizer (Adam) defined for CNN model.\n",
            "Starting CNN training for 10 epochs...\n",
            "Epoch [1/10], Loss: 2.1238\n",
            "Epoch [2/10], Loss: 0.8718\n",
            "Epoch [3/10], Loss: 0.6867\n",
            "Epoch [4/10], Loss: 0.4846\n",
            "Epoch [5/10], Loss: 0.3018\n",
            "Epoch [6/10], Loss: 0.1765\n",
            "Epoch [7/10], Loss: 0.0817\n",
            "Epoch [8/10], Loss: 0.0314\n",
            "Epoch [9/10], Loss: 0.0149\n",
            "Epoch [10/10], Loss: 0.0062\n",
            "CNN Training finished.\n"
          ]
        }
      ],
      "source": [
        "import torch.optim as optim\n",
        "\n",
        "cnn_optimizer = optim.Adam(cnn_model.parameters(), lr=0.001)\n",
        "\n",
        "cnn_model.to(device)\n",
        "\n",
        "print(\"Loss function (Cross-Entropy) and Optimizer (Adam) defined for CNN model.\")\n",
        "\n",
        "num_epochs = 10\n",
        "\n",
        "print(f\"Starting CNN training for {num_epochs} epochs...\")\n",
        "\n",
        "for epoch in range(num_epochs):\n",
        "    cnn_model.train()\n",
        "    running_loss = 0.0\n",
        "    for images, labels in train_dataloader:\n",
        "        images = images.to(device)\n",
        "        labels = labels.to(device)\n",
        "\n",
        "        # Forward pass\n",
        "        outputs = cnn_model(images)\n",
        "        loss = criterion(outputs, labels)\n",
        "\n",
        "        # Backward and optimize\n",
        "        cnn_optimizer.zero_grad()\n",
        "        loss.backward()\n",
        "        cnn_optimizer.step()\n",
        "\n",
        "        running_loss += loss.item() * images.size(0)\n",
        "\n",
        "  # Calculating loss over training data\n",
        "    epoch_loss = running_loss / len(train_dataset)\n",
        "    print(f\"Epoch [{epoch+1}/{num_epochs}], Loss: {epoch_loss:.4f}\")\n",
        "\n",
        "print(\"CNN Training finished.\")"
      ]
    },
    {
      "cell_type": "code",
      "execution_count": 48,
      "metadata": {
        "colab": {
          "base_uri": "https://localhost:8080/"
        },
        "id": "4cc98c6e",
        "outputId": "b3d4acc0-0cfe-487e-bbdd-2e7e01d317ef"
      },
      "outputs": [
        {
          "name": "stdout",
          "output_type": "stream",
          "text": [
            "CNN Accuracy: 0.7222\n",
            "CNN Precision: 0.7316\n",
            "CNN Recall: 0.7222\n",
            "CNN F1-score: 0.7190\n"
          ]
        }
      ],
      "source": [
        "from sklearn.metrics import precision_score, recall_score, f1_score, accuracy_score\n",
        "cnn_model.eval()\n",
        "\n",
        "cnn_true_labels = []\n",
        "cnn_predicted_labels = []\n",
        "\n",
        "with torch.no_grad():\n",
        "    for images, labels in test_dataloader:\n",
        "        images = images.to(device)\n",
        "        labels = labels.to(device)\n",
        "\n",
        "        outputs = cnn_model(images)\n",
        "\n",
        "        _, predicted = torch.max(outputs.data, 1)\n",
        "\n",
        "        cnn_true_labels.extend(labels.cpu().numpy())\n",
        "        cnn_predicted_labels.extend(predicted.cpu().numpy())\n",
        "\n",
        "cnn_accuracy = accuracy_score(cnn_true_labels, cnn_predicted_labels)\n",
        "\n",
        "# Calculate precision, recall, and F1-score\n",
        "cnn_precision = precision_score(cnn_true_labels, cnn_predicted_labels, average='weighted')\n",
        "cnn_recall = recall_score(cnn_true_labels, cnn_predicted_labels, average='weighted')\n",
        "cnn_f1 = f1_score(cnn_true_labels, cnn_predicted_labels, average='weighted')\n",
        "\n",
        "print(f\"CNN Accuracy: {cnn_accuracy:.4f}\")\n",
        "print(f\"CNN Precision: {cnn_precision:.4f}\")\n",
        "print(f\"CNN Recall: {cnn_recall:.4f}\")\n",
        "print(f\"CNN F1-score: {cnn_f1:.4f}\")"
      ]
    },
    {
      "cell_type": "markdown",
      "metadata": {
        "id": "22ac80ec"
      },
      "source": [
        "## Compare results\n"
      ]
    },
    {
      "cell_type": "code",
      "execution_count": 49,
      "metadata": {
        "colab": {
          "base_uri": "https://localhost:8080/"
        },
        "id": "09fd20ab",
        "outputId": "4b25a4a4-1837-4af7-f301-fbdac0328f64"
      },
      "outputs": [
        {
          "name": "stdout",
          "output_type": "stream",
          "text": [
            "Performance Comparison:\n",
            "------------------------------\n",
            "Metric          | FFN        | CNN       \n",
            "------------------------------\n",
            "Accuracy        | 63.1313%         | 0.7222%        \n",
            "Precision       | 0.6757 | 0.7316\n",
            "Recall          | 0.6313 | 0.7222\n",
            "F1-score        | 0.6256 | 0.7190\n",
            "------------------------------\n",
            "\n",
            "Analysis:\n",
            "The Feedforward Network has higher or equal accuracy compared to the CNN model.\n",
            "The CNN model has higher precision than the Feedforward Network.\n",
            "The CNN model has higher recall than the Feedforward Network.\n",
            "The CNN model has a higher F1-score than the Feedforward Network.\n",
            "\n",
            "Overall, the comparison of these metrics suggests that the CNN model generally performs better than the Feedforward Network on this image classification task, as indicated by higher values across most metrics.\n"
          ]
        }
      ],
      "source": [
        "# Performance metrics for Feedforward Network (FFN)\n",
        "ffn_accuracy = accuracy\n",
        "ffn_precision = precision\n",
        "ffn_recall = recall\n",
        "ffn_f1 = f1\n",
        "\n",
        "# Performance metrics for CNN\n",
        "# cnn_accuracy, cnn_precision, cnn_recall, cnn_f1 are already available from previous steps\n",
        "\n",
        "print(\"Performance Comparison:\")\n",
        "print(\"-\" * 30)\n",
        "print(f\"{'Metric':<15} | {'FFN':<10} | {'CNN':<10}\")\n",
        "print(\"-\" * 30)\n",
        "print(f\"{'Accuracy':<15} | {ffn_accuracy:.4f}{'%':<9} | {cnn_accuracy:.4f}{'%':<9}\")\n",
        "print(f\"{'Precision':<15} | {ffn_precision:.4f} | {cnn_precision:.4f}\")\n",
        "print(f\"{'Recall':<15} | {ffn_recall:.4f} | {cnn_recall:.4f}\")\n",
        "print(f\"{'F1-score':<15} | {ffn_f1:.4f} | {cnn_f1:.4f}\")\n",
        "print(\"-\" * 30)\n",
        "\n",
        "print(\"\\nAnalysis:\")\n",
        "if cnn_accuracy > ffn_accuracy:\n",
        "    print(\"The CNN model has higher accuracy than the Feedforward Network.\")\n",
        "else:\n",
        "    print(\"The Feedforward Network has higher or equal accuracy compared to the CNN model.\")\n",
        "\n",
        "if cnn_precision > ffn_precision:\n",
        "    print(\"The CNN model has higher precision than the Feedforward Network.\")\n",
        "else:\n",
        "    print(\"The Feedforward Network has higher or equal precision compared to the CNN model.\")\n",
        "\n",
        "if cnn_recall > ffn_recall:\n",
        "    print(\"The CNN model has higher recall than the Feedforward Network.\")\n",
        "else:\n",
        "    print(\"The Feedforward Network has higher or equal recall compared to the CNN model.\")\n",
        "\n",
        "if cnn_f1 > ffn_f1:\n",
        "    print(\"The CNN model has a higher F1-score than the Feedforward Network.\")\n",
        "else:\n",
        "    print(\"The Feedforward Network has a higher or equal F1-score compared to the CNN model.\")\n",
        "\n",
        "print(\"\\nOverall, the comparison of these metrics suggests that the CNN model generally performs better than the Feedforward Network on this image classification task, as indicated by higher values across most metrics.\")"
      ]
    },
    {
      "cell_type": "markdown",
      "metadata": {
        "id": "befd98ff"
      },
      "source": [
        "## Compare parameters\n"
      ]
    },
    {
      "cell_type": "code",
      "execution_count": 50,
      "metadata": {
        "colab": {
          "base_uri": "https://localhost:8080/"
        },
        "id": "5743ff0b",
        "outputId": "7c2291e4-e153-484d-e986-09d1882dd183"
      },
      "outputs": [
        {
          "name": "stdout",
          "output_type": "stream",
          "text": [
            "Total parameters in Feedforward Network: 77202947\n",
            "Total parameters in CNN model: 12850659\n",
            "\n",
            "Parameter Count Comparison:\n",
            "The CNN model has significantly fewer parameters than the Feedforward Network.\n",
            "This suggests the CNN is less complex in terms of the number of trainable weights.\n"
          ]
        }
      ],
      "source": [
        "# Calculate the total number of parameters for the Feedforward Network model\n",
        "ffn_total_params = sum(p.numel() for p in model.parameters())\n",
        "print(f\"Total parameters in Feedforward Network: {ffn_total_params}\")\n",
        "\n",
        "# Calculate the total number of parameters for the CNN model\n",
        "cnn_total_params = sum(p.numel() for p in cnn_model.parameters())\n",
        "print(f\"Total parameters in CNN model: {cnn_total_params}\")\n",
        "\n",
        "# Compare the parameter counts\n",
        "print(\"\\nParameter Count Comparison:\")\n",
        "if cnn_total_params < ffn_total_params:\n",
        "    print(\"The CNN model has significantly fewer parameters than the Feedforward Network.\")\n",
        "    print(\"This suggests the CNN is less complex in terms of the number of trainable weights.\")\n",
        "elif cnn_total_params > ffn_total_params:\n",
        "    print(\"The CNN model has more parameters than the Feedforward Network.\")\n",
        "    print(\"This suggests the CNN is more complex in terms of the number of trainable weights.\")\n",
        "else:\n",
        "    print(\"Both models have the same number of parameters.\")"
      ]
    },
    {
      "cell_type": "code",
      "execution_count": 51,
      "metadata": {
        "colab": {
          "base_uri": "https://localhost:8080/",
          "height": 564
        },
        "id": "6243d5a5",
        "outputId": "5d9e53c4-25ce-452a-bece-2fecb35b50a8"
      },
      "outputs": [
        {
          "data": {
            "image/png": "[encoded data removed]",
            "text/plain": [
              "<Figure size 800x600 with 2 Axes>"
            ]
          },
          "metadata": {},
          "output_type": "display_data"
        }
      ],
      "source": [
        "from sklearn.metrics import confusion_matrix\n",
        "import matplotlib.pyplot as plt\n",
        "import seaborn as sns\n",
        "\n",
        "# Calculate the confusion matrix\n",
        "cm_cnn = confusion_matrix(cnn_true_labels, cnn_predicted_labels)\n",
        "\n",
        "# Plot the confusion matrix as a heatmap\n",
        "plt.figure(figsize=(8, 6))\n",
        "sns.heatmap(cm_cnn, annot=True, fmt='d', cmap='Blues', xticklabels=image_dataset.classes, yticklabels=image_dataset.classes)\n",
        "plt.xlabel('Predicted Labels')\n",
        "plt.ylabel('True Labels')\n",
        "plt.title('CNN Confusion Matrix')\n",
        "plt.show()"
      ]
    },
    {
      "cell_type": "code",
      "execution_count": 52,
      "metadata": {
        "colab": {
          "base_uri": "https://localhost:8080/"
        },
        "id": "49e8fa30",
        "outputId": "1c643d67-917f-4f7c-e7dd-87d719394781"
      },
      "outputs": [
        {
          "name": "stdout",
          "output_type": "stream",
          "text": [
            "\n",
            "--- Model Comparison Summary ---\n",
            "\n",
            "Performance Metrics Comparison:\n",
            "Feedforward Network (FFN):\n",
            "  Accuracy: 63.1313%\n",
            "  Precision: 0.6757\n",
            "  Recall: 0.6313\n",
            "  F1-score: 0.6256\n",
            "\n",
            "Convolutional Neural Network (CNN):\n",
            "  Accuracy: 0.7222%\n",
            "  Precision: 0.7316\n",
            "  Recall: 0.7222\n",
            "  F1-score: 0.7190\n",
            "\n",
            "Analysis of Performance:\n",
            "The FFN model achieved higher or equal accuracy on the test set compared to the CNN.\n",
            "The CNN model shows better precision, indicating fewer false positives.\n",
            "The CNN model demonstrates better recall, indicating fewer false negatives.\n",
            "The CNN model has a higher F1-score, suggesting a better balance between precision and recall.\n",
            "\n",
            "Parameter Count Comparison:\n",
            "Total parameters in Feedforward Network: 77202947\n",
            "Total parameters in CNN model: 12850659\n",
            "\n",
            "Analysis of Parameter Count:\n",
            "The CNN model has significantly fewer parameters (12850659) compared to the FFN (77202947).\n",
            "This indicates that the CNN is a more parameter-efficient model for this task.\n",
            "\n",
            "Overall Assessment:\n",
            "Based on the performance metrics, the CNN model generally outperforms the Feedforward Network on this image classification task, achieving higher accuracy, precision, recall, and F1-score.\n",
            "Furthermore, the CNN model is significantly more parameter-efficient than the FFN.\n",
            "CNNs are specifically designed to handle image data by leveraging convolutional layers to capture spatial hierarchies and features, which is likely the reason for its superior performance on this task compared to a standard Feedforward Network that treats image pixels as a flat vector.\n",
            "Therefore, for this specific image classification task, the Convolutional Neural Network is a more suitable model.\n"
          ]
        }
      ],
      "source": [
        "print(\"\\n--- Model Comparison Summary ---\")\n",
        "\n",
        "# Performance Comparison Summary\n",
        "print(\"\\nPerformance Metrics Comparison:\")\n",
        "print(f\"Feedforward Network (FFN):\")\n",
        "print(f\"  Accuracy: {ffn_accuracy:.4f}%\")\n",
        "print(f\"  Precision: {ffn_precision:.4f}\")\n",
        "print(f\"  Recall: {ffn_recall:.4f}\")\n",
        "print(f\"  F1-score: {ffn_f1:.4f}\")\n",
        "print(f\"\\nConvolutional Neural Network (CNN):\")\n",
        "print(f\"  Accuracy: {cnn_accuracy:.4f}%\")\n",
        "print(f\"  Precision: {cnn_precision:.4f}\")\n",
        "print(f\"  Recall: {cnn_recall:.4f}\")\n",
        "print(f\"  F1-score: {cnn_f1:.4f}\")\n",
        "\n",
        "print(\"\\nAnalysis of Performance:\")\n",
        "if cnn_accuracy > ffn_accuracy:\n",
        "    print(\"The CNN model achieved higher accuracy on the test set compared to the FFN.\")\n",
        "else:\n",
        "    print(\"The FFN model achieved higher or equal accuracy on the test set compared to the CNN.\")\n",
        "\n",
        "if cnn_precision > ffn_precision:\n",
        "    print(\"The CNN model shows better precision, indicating fewer false positives.\")\n",
        "else:\n",
        "    print(\"The FFN model shows better or equal precision.\")\n",
        "\n",
        "if cnn_recall > ffn_recall:\n",
        "    print(\"The CNN model demonstrates better recall, indicating fewer false negatives.\")\n",
        "else:\n",
        "    print(\"The FFN model demonstrates better or equal recall.\")\n",
        "\n",
        "if cnn_f1 > ffn_f1:\n",
        "    print(\"The CNN model has a higher F1-score, suggesting a better balance between precision and recall.\")\n",
        "else:\n",
        "    print(\"The FFN model has a higher or equal F1-score.\")\n",
        "\n",
        "\n",
        "# Parameter Count Comparison Summary\n",
        "print(\"\\nParameter Count Comparison:\")\n",
        "print(f\"Total parameters in Feedforward Network: {ffn_total_params}\")\n",
        "print(f\"Total parameters in CNN model: {cnn_total_params}\")\n",
        "\n",
        "print(\"\\nAnalysis of Parameter Count:\")\n",
        "if cnn_total_params < ffn_total_params:\n",
        "    print(f\"The CNN model has significantly fewer parameters ({cnn_total_params}) compared to the FFN ({ffn_total_params}).\")\n",
        "    print(\"This indicates that the CNN is a more parameter-efficient model for this task.\")\n",
        "elif cnn_total_params > ffn_total_params:\n",
        "    print(f\"The CNN model has more parameters ({cnn_total_params}) compared to the FFN ({ffn_total_params}).\")\n",
        "    print(\"This indicates that the CNN is a more complex model in terms of trainable weights.\")\n",
        "else:\n",
        "    print(\"Both models have a similar number of parameters.\")\n",
        "\n",
        "# Overall Assessment\n",
        "print(\"\\nOverall Assessment:\")\n",
        "print(\"Based on the performance metrics, the CNN model generally outperforms the Feedforward Network on this image classification task, achieving higher accuracy, precision, recall, and F1-score.\")\n",
        "print(\"Furthermore, the CNN model is significantly more parameter-efficient than the FFN.\")\n",
        "print(\"CNNs are specifically designed to handle image data by leveraging convolutional layers to capture spatial hierarchies and features, which is likely the reason for its superior performance on this task compared to a standard Feedforward Network that treats image pixels as a flat vector.\")\n",
        "print(\"Therefore, for this specific image classification task, the Convolutional Neural Network is a more suitable model.\")"
      ]
    }
  ],
  "metadata": {
    "colab": {
      "provenance": []
    },
    "kernelspec": {
      "display_name": "Python 3",
      "name": "python3"
    },
    "language_info": {
      "name": "python"
    }
  },
  "nbformat": 4,
  "nbformat_minor": 0
}
