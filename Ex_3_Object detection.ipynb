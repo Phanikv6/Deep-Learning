{
 "cells": [
  {
   "cell_type": "code",
   "execution_count": 1,
   "id": "8eda6d5f-d123-448f-aede-6ae1fcdc9e71",
   "metadata": {},
   "outputs": [
    {
     "name": "stderr",
     "output_type": "stream",
     "text": [
      "2025-08-13 11:57:49.223778: I tensorflow/core/util/port.cc:153] oneDNN custom operations are on. You may see slightly different numerical results due to floating-point round-off errors from different computation orders. To turn them off, set the environment variable `TF_ENABLE_ONEDNN_OPTS=0`.\n",
      "2025-08-13 11:57:49.271869: E external/local_xla/xla/stream_executor/cuda/cuda_fft.cc:467] Unable to register cuFFT factory: Attempting to register factory for plugin cuFFT when one has already been registered\n",
      "WARNING: All log messages before absl::InitializeLog() is called are written to STDERR\n",
      "E0000 00:00:1755066469.315233 1189715 cuda_dnn.cc:8579] Unable to register cuDNN factory: Attempting to register factory for plugin cuDNN when one has already been registered\n",
      "E0000 00:00:1755066469.320970 1189715 cuda_blas.cc:1407] Unable to register cuBLAS factory: Attempting to register factory for plugin cuBLAS when one has already been registered\n",
      "W0000 00:00:1755066469.340143 1189715 computation_placer.cc:177] computation placer already registered. Please check linkage and avoid linking the same target more than once.\n",
      "W0000 00:00:1755066469.340168 1189715 computation_placer.cc:177] computation placer already registered. Please check linkage and avoid linking the same target more than once.\n",
      "W0000 00:00:1755066469.340170 1189715 computation_placer.cc:177] computation placer already registered. Please check linkage and avoid linking the same target more than once.\n",
      "W0000 00:00:1755066469.340171 1189715 computation_placer.cc:177] computation placer already registered. Please check linkage and avoid linking the same target more than once.\n",
      "2025-08-13 11:57:49.345745: I tensorflow/core/platform/cpu_feature_guard.cc:210] This TensorFlow binary is optimized to use available CPU instructions in performance-critical operations.\n",
      "To enable the following instructions: AVX2 AVX512F AVX512_VNNI AVX512_BF16 AVX512_FP16 AVX_VNNI AMX_TILE AMX_INT8 AMX_BF16 FMA, in other operations, rebuild TensorFlow with the appropriate compiler flags.\n",
      "/SASTRA-NEW-CLUSTER/apps/anaconda3/envs/LABENV/lib/python3.12/site-packages/requests/__init__.py:86: RequestsDependencyWarning: Unable to find acceptable character detection dependency (chardet or charset_normalizer).\n",
      "  warnings.warn(\n"
     ]
    },
    {
     "name": "stdout",
     "output_type": "stream",
     "text": [
      "Dataset extracted to dataset\n"
     ]
    }
   ],
   "source": [
    "import zipfile\n",
    "import os\n",
    "import cv2\n",
    "import numpy as np\n",
    "from sklearn.model_selection import train_test_split\n",
    "from tensorflow.keras.utils import to_categorical\n",
    "from tensorflow.keras.models import Sequential\n",
    "from tensorflow.keras.layers import Conv2D, MaxPooling2D, Flatten, Dense, Dropout\n",
    "\n",
    "# Extract the dataset zip file\n",
    "def extract_zip(zip_path, extract_to='dataset'):\n",
    "    with zipfile.ZipFile(zip_path, 'r') as zip_ref:\n",
    "        zip_ref.extractall(extract_to)\n",
    "    print(f\"Dataset extracted to {extract_to}\")\n",
    "\n",
    "# Specify your zip file path\n",
    "dataset_zip = 'dataset.zip'  # Update with your actual zip file name/path\n",
    "extract_zip(dataset_zip)"
   ]
  },
  {
   "cell_type": "code",
   "execution_count": 6,
   "id": "a13731f4-95ec-4a8b-9f73-2010a3de7c78",
   "metadata": {},
   "outputs": [],
   "source": [
    "import os\n",
    "import cv2\n",
    "import numpy as np\n",
    "import xml.etree.ElementTree as ET\n",
    "from sklearn.model_selection import train_test_split\n",
    "from tensorflow.keras.utils import to_categorical\n",
    "from tensorflow.keras.models import Sequential\n",
    "from tensorflow.keras.layers import Conv2D, MaxPooling2D, Flatten, Dense, Dropout\n",
    "\n",
    "# Define paths\n",
    "train_img_dir = 'dataset/object/train/train'\n",
    "test_img_dir = 'dataset/object/test/test'"
   ]
  },
  {
   "cell_type": "code",
   "execution_count": 7,
   "id": "94f58978-4c01-4e83-962e-85045af72cc2",
   "metadata": {},
   "outputs": [],
   "source": [
    "def parse_annotation(xml_file):\n",
    "    tree = ET.parse(xml_file)\n",
    "    root = tree.getroot()\n",
    "    \n",
    "    objects = []\n",
    "    for obj in root.findall('object'):\n",
    "        obj_name = obj.find('name').text\n",
    "        bndbox = obj.find('bndbox')\n",
    "        xmin = int(bndbox.find('xmin').text)\n",
    "        ymin = int(bndbox.find('ymin').text)\n",
    "        xmax = int(bndbox.find('xmax').text)\n",
    "        ymax = int(bndbox.find('ymax').text)\n",
    "        objects.append({\n",
    "            'class': obj_name,\n",
    "            'bbox': [xmin, ymin, xmax, ymax]\n",
    "        })\n",
    "    return objects"
   ]
  },
  {
   "cell_type": "code",
   "execution_count": 8,
   "id": "de8875c8-51f3-4639-b1bd-7b7408fbb41e",
   "metadata": {},
   "outputs": [],
   "source": [
    "def load_dataset(image_dir):\n",
    "    images = []\n",
    "    labels = []\n",
    "    bboxes = []\n",
    "    class_names = set()\n",
    "    \n",
    "    for img_file in os.listdir(image_dir):\n",
    "        if img_file.lower().endswith('.jpg'):\n",
    "            # Get corresponding XML file\n",
    "            xml_file = os.path.splitext(img_file)[0] + '.xml'\n",
    "            xml_path = os.path.join(image_dir, xml_file)\n",
    "            \n",
    "            if not os.path.exists(xml_path):\n",
    "                continue\n",
    "                \n",
    "            # Parse annotation\n",
    "            annotations = parse_annotation(xml_path)\n",
    "            if not annotations:\n",
    "                continue\n",
    "                \n",
    "            # Load image\n",
    "            img_path = os.path.join(image_dir, img_file)\n",
    "            image = cv2.imread(img_path)\n",
    "            if image is None:\n",
    "                continue\n",
    "                \n",
    "            # For simplicity, we'll use the first object in the image\n",
    "            obj = annotations[0]\n",
    "            class_names.add(obj['class'])\n",
    "            \n",
    "            # Resize image and adjust bounding box\n",
    "            orig_h, orig_w = image.shape[:2]\n",
    "            image = cv2.resize(image, (224, 224))\n",
    "            xmin, ymin, xmax, ymax = obj['bbox']\n",
    "            \n",
    "            # Scale bounding box coordinates\n",
    "            xmin = int(xmin * (224 / orig_w))\n",
    "            xmax = int(xmax * (224 / orig_w))\n",
    "            ymin = int(ymin * (224 / orig_h))\n",
    "            ymax = int(ymax * (224 / orig_h))\n",
    "            \n",
    "            images.append(image)\n",
    "            bboxes.append([xmin, ymin, xmax, ymax])\n",
    "    \n",
    "    # Convert class names to indices\n",
    "    class_names = sorted(list(class_names))\n",
    "    class_to_idx = {name: idx for idx, name in enumerate(class_names)}\n",
    "    labels = [class_to_idx[parse_annotation(\n",
    "        os.path.join(image_dir, os.path.splitext(f)[0] + '.xml')\n",
    "    )[0]['class']] for f in os.listdir(image_dir) if f.lower().endswith('.jpg')]\n",
    "    \n",
    "    return np.array(images), np.array(labels), np.array(bboxes), class_names\n",
    "\n",
    "# Load datasets\n",
    "X_train, y_train, bboxes_train, classes = load_dataset(train_img_dir)\n",
    "X_test, y_test, bboxes_test, _ = load_dataset(test_img_dir)"
   ]
  },
  {
   "cell_type": "code",
   "execution_count": 9,
   "id": "5b4e428f-b7af-4d28-8311-8a266b4eb6e8",
   "metadata": {},
   "outputs": [],
   "source": [
    "# Normalize images\n",
    "X_train = X_train.astype('float32') / 255.0\n",
    "X_test = X_test.astype('float32') / 255.0\n",
    "\n",
    "# Normalize bounding boxes (scale to [0,1])\n",
    "bboxes_train = bboxes_train / 224.0\n",
    "bboxes_test = bboxes_test / 224.0\n",
    "\n",
    "# Convert labels to one-hot\n",
    "num_classes = len(classes)\n",
    "y_train = to_categorical(y_train, num_classes)\n",
    "y_test = to_categorical(y_test, num_classes)\n",
    "\n",
    "# Split into training and validation\n",
    "X_train, X_val, y_train, y_val, bboxes_train, bboxes_val = train_test_split(\n",
    "    X_train, y_train, bboxes_train, test_size=0.2, random_state=42)"
   ]
  },
  {
   "cell_type": "code",
   "execution_count": 10,
   "id": "aa5648cf-7067-4413-90ba-771207e33cb5",
   "metadata": {},
   "outputs": [
    {
     "name": "stderr",
     "output_type": "stream",
     "text": [
      "I0000 00:00:1755067058.292396 1189715 gpu_device.cc:2019] Created device /job:localhost/replica:0/task:0/device:GPU:0 with 123436 MB memory:  -> device: 0, name: NVIDIA H200, pci bus id: 0000:1b:00.0, compute capability: 9.0\n",
      "I0000 00:00:1755067058.309029 1189715 gpu_device.cc:2019] Created device /job:localhost/replica:0/task:0/device:GPU:1 with 139166 MB memory:  -> device: 1, name: NVIDIA H200, pci bus id: 0000:43:00.0, compute capability: 9.0\n",
      "I0000 00:00:1755067058.310658 1189715 gpu_device.cc:2019] Created device /job:localhost/replica:0/task:0/device:GPU:2 with 133249 MB memory:  -> device: 2, name: NVIDIA H200, pci bus id: 0000:52:00.0, compute capability: 9.0\n",
      "I0000 00:00:1755067058.312187 1189715 gpu_device.cc:2019] Created device /job:localhost/replica:0/task:0/device:GPU:3 with 137473 MB memory:  -> device: 3, name: NVIDIA H200, pci bus id: 0000:61:00.0, compute capability: 9.0\n",
      "I0000 00:00:1755067058.314646 1189715 gpu_device.cc:2019] Created device /job:localhost/replica:0/task:0/device:GPU:4 with 139144 MB memory:  -> device: 4, name: NVIDIA H200, pci bus id: 0000:9d:00.0, compute capability: 9.0\n",
      "I0000 00:00:1755067058.321101 1189715 gpu_device.cc:2019] Created device /job:localhost/replica:0/task:0/device:GPU:5 with 138309 MB memory:  -> device: 5, name: NVIDIA H200, pci bus id: 0000:c3:00.0, compute capability: 9.0\n",
      "I0000 00:00:1755067058.323428 1189715 gpu_device.cc:2019] Created device /job:localhost/replica:0/task:0/device:GPU:6 with 134964 MB memory:  -> device: 6, name: NVIDIA H200, pci bus id: 0000:d1:00.0, compute capability: 9.0\n",
      "I0000 00:00:1755067058.332276 1189715 gpu_device.cc:2019] Created device /job:localhost/replica:0/task:0/device:GPU:7 with 139980 MB memory:  -> device: 7, name: NVIDIA H200, pci bus id: 0000:df:00.0, compute capability: 9.0\n"
     ]
    },
    {
     "data": {
      "text/html": [
       "<pre style=\"white-space:pre;overflow-x:auto;line-height:normal;font-family:Menlo,'DejaVu Sans Mono',consolas,'Courier New',monospace\"><span style=\"font-weight: bold\">Model: \"functional\"</span>\n",
       "</pre>\n"
      ],
      "text/plain": [
       "\u001b[1mModel: \"functional\"\u001b[0m\n"
      ]
     },
     "metadata": {},
     "output_type": "display_data"
    },
    {
     "data": {
      "text/html": [
       "<pre style=\"white-space:pre;overflow-x:auto;line-height:normal;font-family:Menlo,'DejaVu Sans Mono',consolas,'Courier New',monospace\">┏━━━━━━━━━━━━━━━━━━━━━┳━━━━━━━━━━━━━━━━━━━┳━━━━━━━━━━━━┳━━━━━━━━━━━━━━━━━━━┓\n",
       "┃<span style=\"font-weight: bold\"> Layer (type)        </span>┃<span style=\"font-weight: bold\"> Output Shape      </span>┃<span style=\"font-weight: bold\">    Param # </span>┃<span style=\"font-weight: bold\"> Connected to      </span>┃\n",
       "┡━━━━━━━━━━━━━━━━━━━━━╇━━━━━━━━━━━━━━━━━━━╇━━━━━━━━━━━━╇━━━━━━━━━━━━━━━━━━━┩\n",
       "│ input_layer         │ (<span style=\"color: #00d7ff; text-decoration-color: #00d7ff\">None</span>, <span style=\"color: #00af00; text-decoration-color: #00af00\">224</span>, <span style=\"color: #00af00; text-decoration-color: #00af00\">224</span>,  │          <span style=\"color: #00af00; text-decoration-color: #00af00\">0</span> │ -                 │\n",
       "│ (<span style=\"color: #0087ff; text-decoration-color: #0087ff\">InputLayer</span>)        │ <span style=\"color: #00af00; text-decoration-color: #00af00\">3</span>)                │            │                   │\n",
       "├─────────────────────┼───────────────────┼────────────┼───────────────────┤\n",
       "│ conv2d (<span style=\"color: #0087ff; text-decoration-color: #0087ff\">Conv2D</span>)     │ (<span style=\"color: #00d7ff; text-decoration-color: #00d7ff\">None</span>, <span style=\"color: #00af00; text-decoration-color: #00af00\">222</span>, <span style=\"color: #00af00; text-decoration-color: #00af00\">222</span>,  │        <span style=\"color: #00af00; text-decoration-color: #00af00\">896</span> │ input_layer[<span style=\"color: #00af00; text-decoration-color: #00af00\">0</span>][<span style=\"color: #00af00; text-decoration-color: #00af00\">0</span>] │\n",
       "│                     │ <span style=\"color: #00af00; text-decoration-color: #00af00\">32</span>)               │            │                   │\n",
       "├─────────────────────┼───────────────────┼────────────┼───────────────────┤\n",
       "│ max_pooling2d       │ (<span style=\"color: #00d7ff; text-decoration-color: #00d7ff\">None</span>, <span style=\"color: #00af00; text-decoration-color: #00af00\">111</span>, <span style=\"color: #00af00; text-decoration-color: #00af00\">111</span>,  │          <span style=\"color: #00af00; text-decoration-color: #00af00\">0</span> │ conv2d[<span style=\"color: #00af00; text-decoration-color: #00af00\">0</span>][<span style=\"color: #00af00; text-decoration-color: #00af00\">0</span>]      │\n",
       "│ (<span style=\"color: #0087ff; text-decoration-color: #0087ff\">MaxPooling2D</span>)      │ <span style=\"color: #00af00; text-decoration-color: #00af00\">32</span>)               │            │                   │\n",
       "├─────────────────────┼───────────────────┼────────────┼───────────────────┤\n",
       "│ conv2d_1 (<span style=\"color: #0087ff; text-decoration-color: #0087ff\">Conv2D</span>)   │ (<span style=\"color: #00d7ff; text-decoration-color: #00d7ff\">None</span>, <span style=\"color: #00af00; text-decoration-color: #00af00\">109</span>, <span style=\"color: #00af00; text-decoration-color: #00af00\">109</span>,  │     <span style=\"color: #00af00; text-decoration-color: #00af00\">18,496</span> │ max_pooling2d[<span style=\"color: #00af00; text-decoration-color: #00af00\">0</span>]… │\n",
       "│                     │ <span style=\"color: #00af00; text-decoration-color: #00af00\">64</span>)               │            │                   │\n",
       "├─────────────────────┼───────────────────┼────────────┼───────────────────┤\n",
       "│ max_pooling2d_1     │ (<span style=\"color: #00d7ff; text-decoration-color: #00d7ff\">None</span>, <span style=\"color: #00af00; text-decoration-color: #00af00\">54</span>, <span style=\"color: #00af00; text-decoration-color: #00af00\">54</span>,    │          <span style=\"color: #00af00; text-decoration-color: #00af00\">0</span> │ conv2d_1[<span style=\"color: #00af00; text-decoration-color: #00af00\">0</span>][<span style=\"color: #00af00; text-decoration-color: #00af00\">0</span>]    │\n",
       "│ (<span style=\"color: #0087ff; text-decoration-color: #0087ff\">MaxPooling2D</span>)      │ <span style=\"color: #00af00; text-decoration-color: #00af00\">64</span>)               │            │                   │\n",
       "├─────────────────────┼───────────────────┼────────────┼───────────────────┤\n",
       "│ conv2d_2 (<span style=\"color: #0087ff; text-decoration-color: #0087ff\">Conv2D</span>)   │ (<span style=\"color: #00d7ff; text-decoration-color: #00d7ff\">None</span>, <span style=\"color: #00af00; text-decoration-color: #00af00\">52</span>, <span style=\"color: #00af00; text-decoration-color: #00af00\">52</span>,    │     <span style=\"color: #00af00; text-decoration-color: #00af00\">73,856</span> │ max_pooling2d_1[<span style=\"color: #00af00; text-decoration-color: #00af00\">…</span> │\n",
       "│                     │ <span style=\"color: #00af00; text-decoration-color: #00af00\">128</span>)              │            │                   │\n",
       "├─────────────────────┼───────────────────┼────────────┼───────────────────┤\n",
       "│ max_pooling2d_2     │ (<span style=\"color: #00d7ff; text-decoration-color: #00d7ff\">None</span>, <span style=\"color: #00af00; text-decoration-color: #00af00\">26</span>, <span style=\"color: #00af00; text-decoration-color: #00af00\">26</span>,    │          <span style=\"color: #00af00; text-decoration-color: #00af00\">0</span> │ conv2d_2[<span style=\"color: #00af00; text-decoration-color: #00af00\">0</span>][<span style=\"color: #00af00; text-decoration-color: #00af00\">0</span>]    │\n",
       "│ (<span style=\"color: #0087ff; text-decoration-color: #0087ff\">MaxPooling2D</span>)      │ <span style=\"color: #00af00; text-decoration-color: #00af00\">128</span>)              │            │                   │\n",
       "├─────────────────────┼───────────────────┼────────────┼───────────────────┤\n",
       "│ flatten (<span style=\"color: #0087ff; text-decoration-color: #0087ff\">Flatten</span>)   │ (<span style=\"color: #00d7ff; text-decoration-color: #00d7ff\">None</span>, <span style=\"color: #00af00; text-decoration-color: #00af00\">86528</span>)     │          <span style=\"color: #00af00; text-decoration-color: #00af00\">0</span> │ max_pooling2d_2[<span style=\"color: #00af00; text-decoration-color: #00af00\">…</span> │\n",
       "├─────────────────────┼───────────────────┼────────────┼───────────────────┤\n",
       "│ dense (<span style=\"color: #0087ff; text-decoration-color: #0087ff\">Dense</span>)       │ (<span style=\"color: #00d7ff; text-decoration-color: #00d7ff\">None</span>, <span style=\"color: #00af00; text-decoration-color: #00af00\">128</span>)       │ <span style=\"color: #00af00; text-decoration-color: #00af00\">11,075,712</span> │ flatten[<span style=\"color: #00af00; text-decoration-color: #00af00\">0</span>][<span style=\"color: #00af00; text-decoration-color: #00af00\">0</span>]     │\n",
       "├─────────────────────┼───────────────────┼────────────┼───────────────────┤\n",
       "│ dense_1 (<span style=\"color: #0087ff; text-decoration-color: #0087ff\">Dense</span>)     │ (<span style=\"color: #00d7ff; text-decoration-color: #00d7ff\">None</span>, <span style=\"color: #00af00; text-decoration-color: #00af00\">128</span>)       │ <span style=\"color: #00af00; text-decoration-color: #00af00\">11,075,712</span> │ flatten[<span style=\"color: #00af00; text-decoration-color: #00af00\">0</span>][<span style=\"color: #00af00; text-decoration-color: #00af00\">0</span>]     │\n",
       "├─────────────────────┼───────────────────┼────────────┼───────────────────┤\n",
       "│ dropout (<span style=\"color: #0087ff; text-decoration-color: #0087ff\">Dropout</span>)   │ (<span style=\"color: #00d7ff; text-decoration-color: #00d7ff\">None</span>, <span style=\"color: #00af00; text-decoration-color: #00af00\">128</span>)       │          <span style=\"color: #00af00; text-decoration-color: #00af00\">0</span> │ dense[<span style=\"color: #00af00; text-decoration-color: #00af00\">0</span>][<span style=\"color: #00af00; text-decoration-color: #00af00\">0</span>]       │\n",
       "├─────────────────────┼───────────────────┼────────────┼───────────────────┤\n",
       "│ dropout_1 (<span style=\"color: #0087ff; text-decoration-color: #0087ff\">Dropout</span>) │ (<span style=\"color: #00d7ff; text-decoration-color: #00d7ff\">None</span>, <span style=\"color: #00af00; text-decoration-color: #00af00\">128</span>)       │          <span style=\"color: #00af00; text-decoration-color: #00af00\">0</span> │ dense_1[<span style=\"color: #00af00; text-decoration-color: #00af00\">0</span>][<span style=\"color: #00af00; text-decoration-color: #00af00\">0</span>]     │\n",
       "├─────────────────────┼───────────────────┼────────────┼───────────────────┤\n",
       "│ class_output        │ (<span style=\"color: #00d7ff; text-decoration-color: #00d7ff\">None</span>, <span style=\"color: #00af00; text-decoration-color: #00af00\">3</span>)         │        <span style=\"color: #00af00; text-decoration-color: #00af00\">387</span> │ dropout[<span style=\"color: #00af00; text-decoration-color: #00af00\">0</span>][<span style=\"color: #00af00; text-decoration-color: #00af00\">0</span>]     │\n",
       "│ (<span style=\"color: #0087ff; text-decoration-color: #0087ff\">Dense</span>)             │                   │            │                   │\n",
       "├─────────────────────┼───────────────────┼────────────┼───────────────────┤\n",
       "│ bbox_output (<span style=\"color: #0087ff; text-decoration-color: #0087ff\">Dense</span>) │ (<span style=\"color: #00d7ff; text-decoration-color: #00d7ff\">None</span>, <span style=\"color: #00af00; text-decoration-color: #00af00\">4</span>)         │        <span style=\"color: #00af00; text-decoration-color: #00af00\">516</span> │ dropout_1[<span style=\"color: #00af00; text-decoration-color: #00af00\">0</span>][<span style=\"color: #00af00; text-decoration-color: #00af00\">0</span>]   │\n",
       "└─────────────────────┴───────────────────┴────────────┴───────────────────┘\n",
       "</pre>\n"
      ],
      "text/plain": [
       "┏━━━━━━━━━━━━━━━━━━━━━┳━━━━━━━━━━━━━━━━━━━┳━━━━━━━━━━━━┳━━━━━━━━━━━━━━━━━━━┓\n",
       "┃\u001b[1m \u001b[0m\u001b[1mLayer (type)       \u001b[0m\u001b[1m \u001b[0m┃\u001b[1m \u001b[0m\u001b[1mOutput Shape     \u001b[0m\u001b[1m \u001b[0m┃\u001b[1m \u001b[0m\u001b[1m   Param #\u001b[0m\u001b[1m \u001b[0m┃\u001b[1m \u001b[0m\u001b[1mConnected to     \u001b[0m\u001b[1m \u001b[0m┃\n",
       "┡━━━━━━━━━━━━━━━━━━━━━╇━━━━━━━━━━━━━━━━━━━╇━━━━━━━━━━━━╇━━━━━━━━━━━━━━━━━━━┩\n",
       "│ input_layer         │ (\u001b[38;5;45mNone\u001b[0m, \u001b[38;5;34m224\u001b[0m, \u001b[38;5;34m224\u001b[0m,  │          \u001b[38;5;34m0\u001b[0m │ -                 │\n",
       "│ (\u001b[38;5;33mInputLayer\u001b[0m)        │ \u001b[38;5;34m3\u001b[0m)                │            │                   │\n",
       "├─────────────────────┼───────────────────┼────────────┼───────────────────┤\n",
       "│ conv2d (\u001b[38;5;33mConv2D\u001b[0m)     │ (\u001b[38;5;45mNone\u001b[0m, \u001b[38;5;34m222\u001b[0m, \u001b[38;5;34m222\u001b[0m,  │        \u001b[38;5;34m896\u001b[0m │ input_layer[\u001b[38;5;34m0\u001b[0m][\u001b[38;5;34m0\u001b[0m] │\n",
       "│                     │ \u001b[38;5;34m32\u001b[0m)               │            │                   │\n",
       "├─────────────────────┼───────────────────┼────────────┼───────────────────┤\n",
       "│ max_pooling2d       │ (\u001b[38;5;45mNone\u001b[0m, \u001b[38;5;34m111\u001b[0m, \u001b[38;5;34m111\u001b[0m,  │          \u001b[38;5;34m0\u001b[0m │ conv2d[\u001b[38;5;34m0\u001b[0m][\u001b[38;5;34m0\u001b[0m]      │\n",
       "│ (\u001b[38;5;33mMaxPooling2D\u001b[0m)      │ \u001b[38;5;34m32\u001b[0m)               │            │                   │\n",
       "├─────────────────────┼───────────────────┼────────────┼───────────────────┤\n",
       "│ conv2d_1 (\u001b[38;5;33mConv2D\u001b[0m)   │ (\u001b[38;5;45mNone\u001b[0m, \u001b[38;5;34m109\u001b[0m, \u001b[38;5;34m109\u001b[0m,  │     \u001b[38;5;34m18,496\u001b[0m │ max_pooling2d[\u001b[38;5;34m0\u001b[0m]… │\n",
       "│                     │ \u001b[38;5;34m64\u001b[0m)               │            │                   │\n",
       "├─────────────────────┼───────────────────┼────────────┼───────────────────┤\n",
       "│ max_pooling2d_1     │ (\u001b[38;5;45mNone\u001b[0m, \u001b[38;5;34m54\u001b[0m, \u001b[38;5;34m54\u001b[0m,    │          \u001b[38;5;34m0\u001b[0m │ conv2d_1[\u001b[38;5;34m0\u001b[0m][\u001b[38;5;34m0\u001b[0m]    │\n",
       "│ (\u001b[38;5;33mMaxPooling2D\u001b[0m)      │ \u001b[38;5;34m64\u001b[0m)               │            │                   │\n",
       "├─────────────────────┼───────────────────┼────────────┼───────────────────┤\n",
       "│ conv2d_2 (\u001b[38;5;33mConv2D\u001b[0m)   │ (\u001b[38;5;45mNone\u001b[0m, \u001b[38;5;34m52\u001b[0m, \u001b[38;5;34m52\u001b[0m,    │     \u001b[38;5;34m73,856\u001b[0m │ max_pooling2d_1[\u001b[38;5;34m…\u001b[0m │\n",
       "│                     │ \u001b[38;5;34m128\u001b[0m)              │            │                   │\n",
       "├─────────────────────┼───────────────────┼────────────┼───────────────────┤\n",
       "│ max_pooling2d_2     │ (\u001b[38;5;45mNone\u001b[0m, \u001b[38;5;34m26\u001b[0m, \u001b[38;5;34m26\u001b[0m,    │          \u001b[38;5;34m0\u001b[0m │ conv2d_2[\u001b[38;5;34m0\u001b[0m][\u001b[38;5;34m0\u001b[0m]    │\n",
       "│ (\u001b[38;5;33mMaxPooling2D\u001b[0m)      │ \u001b[38;5;34m128\u001b[0m)              │            │                   │\n",
       "├─────────────────────┼───────────────────┼────────────┼───────────────────┤\n",
       "│ flatten (\u001b[38;5;33mFlatten\u001b[0m)   │ (\u001b[38;5;45mNone\u001b[0m, \u001b[38;5;34m86528\u001b[0m)     │          \u001b[38;5;34m0\u001b[0m │ max_pooling2d_2[\u001b[38;5;34m…\u001b[0m │\n",
       "├─────────────────────┼───────────────────┼────────────┼───────────────────┤\n",
       "│ dense (\u001b[38;5;33mDense\u001b[0m)       │ (\u001b[38;5;45mNone\u001b[0m, \u001b[38;5;34m128\u001b[0m)       │ \u001b[38;5;34m11,075,712\u001b[0m │ flatten[\u001b[38;5;34m0\u001b[0m][\u001b[38;5;34m0\u001b[0m]     │\n",
       "├─────────────────────┼───────────────────┼────────────┼───────────────────┤\n",
       "│ dense_1 (\u001b[38;5;33mDense\u001b[0m)     │ (\u001b[38;5;45mNone\u001b[0m, \u001b[38;5;34m128\u001b[0m)       │ \u001b[38;5;34m11,075,712\u001b[0m │ flatten[\u001b[38;5;34m0\u001b[0m][\u001b[38;5;34m0\u001b[0m]     │\n",
       "├─────────────────────┼───────────────────┼────────────┼───────────────────┤\n",
       "│ dropout (\u001b[38;5;33mDropout\u001b[0m)   │ (\u001b[38;5;45mNone\u001b[0m, \u001b[38;5;34m128\u001b[0m)       │          \u001b[38;5;34m0\u001b[0m │ dense[\u001b[38;5;34m0\u001b[0m][\u001b[38;5;34m0\u001b[0m]       │\n",
       "├─────────────────────┼───────────────────┼────────────┼───────────────────┤\n",
       "│ dropout_1 (\u001b[38;5;33mDropout\u001b[0m) │ (\u001b[38;5;45mNone\u001b[0m, \u001b[38;5;34m128\u001b[0m)       │          \u001b[38;5;34m0\u001b[0m │ dense_1[\u001b[38;5;34m0\u001b[0m][\u001b[38;5;34m0\u001b[0m]     │\n",
       "├─────────────────────┼───────────────────┼────────────┼───────────────────┤\n",
       "│ class_output        │ (\u001b[38;5;45mNone\u001b[0m, \u001b[38;5;34m3\u001b[0m)         │        \u001b[38;5;34m387\u001b[0m │ dropout[\u001b[38;5;34m0\u001b[0m][\u001b[38;5;34m0\u001b[0m]     │\n",
       "│ (\u001b[38;5;33mDense\u001b[0m)             │                   │            │                   │\n",
       "├─────────────────────┼───────────────────┼────────────┼───────────────────┤\n",
       "│ bbox_output (\u001b[38;5;33mDense\u001b[0m) │ (\u001b[38;5;45mNone\u001b[0m, \u001b[38;5;34m4\u001b[0m)         │        \u001b[38;5;34m516\u001b[0m │ dropout_1[\u001b[38;5;34m0\u001b[0m][\u001b[38;5;34m0\u001b[0m]   │\n",
       "└─────────────────────┴───────────────────┴────────────┴───────────────────┘\n"
      ]
     },
     "metadata": {},
     "output_type": "display_data"
    },
    {
     "data": {
      "text/html": [
       "<pre style=\"white-space:pre;overflow-x:auto;line-height:normal;font-family:Menlo,'DejaVu Sans Mono',consolas,'Courier New',monospace\"><span style=\"font-weight: bold\"> Total params: </span><span style=\"color: #00af00; text-decoration-color: #00af00\">22,245,575</span> (84.86 MB)\n",
       "</pre>\n"
      ],
      "text/plain": [
       "\u001b[1m Total params: \u001b[0m\u001b[38;5;34m22,245,575\u001b[0m (84.86 MB)\n"
      ]
     },
     "metadata": {},
     "output_type": "display_data"
    },
    {
     "data": {
      "text/html": [
       "<pre style=\"white-space:pre;overflow-x:auto;line-height:normal;font-family:Menlo,'DejaVu Sans Mono',consolas,'Courier New',monospace\"><span style=\"font-weight: bold\"> Trainable params: </span><span style=\"color: #00af00; text-decoration-color: #00af00\">22,245,575</span> (84.86 MB)\n",
       "</pre>\n"
      ],
      "text/plain": [
       "\u001b[1m Trainable params: \u001b[0m\u001b[38;5;34m22,245,575\u001b[0m (84.86 MB)\n"
      ]
     },
     "metadata": {},
     "output_type": "display_data"
    },
    {
     "data": {
      "text/html": [
       "<pre style=\"white-space:pre;overflow-x:auto;line-height:normal;font-family:Menlo,'DejaVu Sans Mono',consolas,'Courier New',monospace\"><span style=\"font-weight: bold\"> Non-trainable params: </span><span style=\"color: #00af00; text-decoration-color: #00af00\">0</span> (0.00 B)\n",
       "</pre>\n"
      ],
      "text/plain": [
       "\u001b[1m Non-trainable params: \u001b[0m\u001b[38;5;34m0\u001b[0m (0.00 B)\n"
      ]
     },
     "metadata": {},
     "output_type": "display_data"
    }
   ],
   "source": [
    "from tensorflow.keras.layers import Input\n",
    "from tensorflow.keras.models import Model\n",
    "\n",
    "def create_object_detection_model(input_shape, num_classes):\n",
    "    inputs = Input(shape=input_shape)\n",
    "    \n",
    "    # Base CNN\n",
    "    x = Conv2D(32, (3, 3), activation='relu')(inputs)\n",
    "    x = MaxPooling2D((2, 2))(x)\n",
    "    x = Conv2D(64, (3, 3), activation='relu')(x)\n",
    "    x = MaxPooling2D((2, 2))(x)\n",
    "    x = Conv2D(128, (3, 3), activation='relu')(x)\n",
    "    x = MaxPooling2D((2, 2))(x)\n",
    "    x = Flatten()(x)\n",
    "    \n",
    "    # Classification head\n",
    "    cls_output = Dense(128, activation='relu')(x)\n",
    "    cls_output = Dropout(0.5)(cls_output)\n",
    "    cls_output = Dense(num_classes, activation='softmax', name='class_output')(cls_output)\n",
    "    \n",
    "    # Bounding box regression head\n",
    "    bbox_output = Dense(128, activation='relu')(x)\n",
    "    bbox_output = Dropout(0.5)(bbox_output)\n",
    "    bbox_output = Dense(4, activation='sigmoid', name='bbox_output')(bbox_output)\n",
    "    \n",
    "    model = Model(inputs=inputs, outputs=[cls_output, bbox_output])\n",
    "    \n",
    "    model.compile(optimizer='adam',\n",
    "                 loss={'class_output': 'categorical_crossentropy',\n",
    "                       'bbox_output': 'mse'},\n",
    "                 metrics={'class_output': 'accuracy',\n",
    "                         'bbox_output': 'mse'})\n",
    "    \n",
    "    return model\n",
    "\n",
    "model = create_object_detection_model((224, 224, 3), num_classes)\n",
    "model.summary()"
   ]
  },
  {
   "cell_type": "code",
   "execution_count": 12,
   "id": "8867695b-26ff-4acf-9307-abdcc5b098d2",
   "metadata": {},
   "outputs": [
    {
     "name": "stdout",
     "output_type": "stream",
     "text": [
      "Epoch 1/20\n",
      "\u001b[1m6/6\u001b[0m \u001b[32m━━━━━━━━━━━━━━━━━━━━\u001b[0m\u001b[37m\u001b[0m \u001b[1m1s\u001b[0m 127ms/step - bbox_output_loss: 0.0331 - bbox_output_mse: 0.0331 - class_output_accuracy: 0.8137 - class_output_loss: 0.5638 - loss: 0.5969 - val_bbox_output_loss: 0.0247 - val_bbox_output_mse: 0.0242 - val_class_output_accuracy: 0.7917 - val_class_output_loss: 0.3997 - val_loss: 0.4403\n",
      "Epoch 2/20\n",
      "\u001b[1m6/6\u001b[0m \u001b[32m━━━━━━━━━━━━━━━━━━━━\u001b[0m\u001b[37m\u001b[0m \u001b[1m1s\u001b[0m 69ms/step - bbox_output_loss: 0.0246 - bbox_output_mse: 0.0246 - class_output_accuracy: 0.8626 - class_output_loss: 0.3628 - loss: 0.3874 - val_bbox_output_loss: 0.0226 - val_bbox_output_mse: 0.0220 - val_class_output_accuracy: 0.9583 - val_class_output_loss: 0.2336 - val_loss: 0.2841\n",
      "Epoch 3/20\n",
      "\u001b[1m6/6\u001b[0m \u001b[32m━━━━━━━━━━━━━━━━━━━━\u001b[0m\u001b[37m\u001b[0m \u001b[1m1s\u001b[0m 56ms/step - bbox_output_loss: 0.0204 - bbox_output_mse: 0.0204 - class_output_accuracy: 0.9434 - class_output_loss: 0.1778 - loss: 0.1983 - val_bbox_output_loss: 0.0227 - val_bbox_output_mse: 0.0223 - val_class_output_accuracy: 0.9583 - val_class_output_loss: 0.1942 - val_loss: 0.2321\n",
      "Epoch 4/20\n",
      "\u001b[1m6/6\u001b[0m \u001b[32m━━━━━━━━━━━━━━━━━━━━\u001b[0m\u001b[37m\u001b[0m \u001b[1m1s\u001b[0m 86ms/step - bbox_output_loss: 0.0209 - bbox_output_mse: 0.0209 - class_output_accuracy: 0.9199 - class_output_loss: 0.2151 - loss: 0.2360 - val_bbox_output_loss: 0.0229 - val_bbox_output_mse: 0.0224 - val_class_output_accuracy: 0.8542 - val_class_output_loss: 0.2794 - val_loss: 0.2953\n",
      "Epoch 5/20\n",
      "\u001b[1m6/6\u001b[0m \u001b[32m━━━━━━━━━━━━━━━━━━━━\u001b[0m\u001b[37m\u001b[0m \u001b[1m1s\u001b[0m 95ms/step - bbox_output_loss: 0.0183 - bbox_output_mse: 0.0183 - class_output_accuracy: 0.9463 - class_output_loss: 0.1555 - loss: 0.1738 - val_bbox_output_loss: 0.0205 - val_bbox_output_mse: 0.0201 - val_class_output_accuracy: 0.9583 - val_class_output_loss: 0.1462 - val_loss: 0.1876\n",
      "Epoch 6/20\n",
      "\u001b[1m6/6\u001b[0m \u001b[32m━━━━━━━━━━━━━━━━━━━━\u001b[0m\u001b[37m\u001b[0m \u001b[1m0s\u001b[0m 63ms/step - bbox_output_loss: 0.0187 - bbox_output_mse: 0.0187 - class_output_accuracy: 0.9871 - class_output_loss: 0.0711 - loss: 0.0898 - val_bbox_output_loss: 0.0208 - val_bbox_output_mse: 0.0204 - val_class_output_accuracy: 0.9583 - val_class_output_loss: 0.1014 - val_loss: 0.1225\n",
      "Epoch 7/20\n",
      "\u001b[1m6/6\u001b[0m \u001b[32m━━━━━━━━━━━━━━━━━━━━\u001b[0m\u001b[37m\u001b[0m \u001b[1m1s\u001b[0m 64ms/step - bbox_output_loss: 0.0188 - bbox_output_mse: 0.0188 - class_output_accuracy: 0.9617 - class_output_loss: 0.0873 - loss: 0.1061 - val_bbox_output_loss: 0.0216 - val_bbox_output_mse: 0.0219 - val_class_output_accuracy: 0.9375 - val_class_output_loss: 0.1270 - val_loss: 0.1383\n",
      "Epoch 8/20\n",
      "\u001b[1m6/6\u001b[0m \u001b[32m━━━━━━━━━━━━━━━━━━━━\u001b[0m\u001b[37m\u001b[0m \u001b[1m1s\u001b[0m 74ms/step - bbox_output_loss: 0.0173 - bbox_output_mse: 0.0173 - class_output_accuracy: 0.9950 - class_output_loss: 0.0637 - loss: 0.0810 - val_bbox_output_loss: 0.0192 - val_bbox_output_mse: 0.0195 - val_class_output_accuracy: 0.9583 - val_class_output_loss: 0.0921 - val_loss: 0.1055\n",
      "Epoch 9/20\n",
      "\u001b[1m6/6\u001b[0m \u001b[32m━━━━━━━━━━━━━━━━━━━━\u001b[0m\u001b[37m\u001b[0m \u001b[1m1s\u001b[0m 62ms/step - bbox_output_loss: 0.0162 - bbox_output_mse: 0.0162 - class_output_accuracy: 0.9671 - class_output_loss: 0.0962 - loss: 0.1124 - val_bbox_output_loss: 0.0228 - val_bbox_output_mse: 0.0226 - val_class_output_accuracy: 0.9167 - val_class_output_loss: 0.2104 - val_loss: 0.2026\n",
      "Epoch 10/20\n",
      "\u001b[1m6/6\u001b[0m \u001b[32m━━━━━━━━━━━━━━━━━━━━\u001b[0m\u001b[37m\u001b[0m \u001b[1m1s\u001b[0m 73ms/step - bbox_output_loss: 0.0151 - bbox_output_mse: 0.0151 - class_output_accuracy: 0.9629 - class_output_loss: 0.0869 - loss: 0.1020 - val_bbox_output_loss: 0.0227 - val_bbox_output_mse: 0.0224 - val_class_output_accuracy: 0.9583 - val_class_output_loss: 0.1076 - val_loss: 0.1269\n",
      "Epoch 11/20\n",
      "\u001b[1m6/6\u001b[0m \u001b[32m━━━━━━━━━━━━━━━━━━━━\u001b[0m\u001b[37m\u001b[0m \u001b[1m1s\u001b[0m 79ms/step - bbox_output_loss: 0.0152 - bbox_output_mse: 0.0152 - class_output_accuracy: 0.9856 - class_output_loss: 0.0727 - loss: 0.0879 - val_bbox_output_loss: 0.0202 - val_bbox_output_mse: 0.0203 - val_class_output_accuracy: 0.9375 - val_class_output_loss: 0.1542 - val_loss: 0.1778\n",
      "Epoch 12/20\n",
      "\u001b[1m6/6\u001b[0m \u001b[32m━━━━━━━━━━━━━━━━━━━━\u001b[0m\u001b[37m\u001b[0m \u001b[1m1s\u001b[0m 94ms/step - bbox_output_loss: 0.0137 - bbox_output_mse: 0.0137 - class_output_accuracy: 0.9751 - class_output_loss: 0.0582 - loss: 0.0719 - val_bbox_output_loss: 0.0209 - val_bbox_output_mse: 0.0215 - val_class_output_accuracy: 0.9792 - val_class_output_loss: 0.0667 - val_loss: 0.1023\n",
      "Epoch 13/20\n",
      "\u001b[1m6/6\u001b[0m \u001b[32m━━━━━━━━━━━━━━━━━━━━\u001b[0m\u001b[37m\u001b[0m \u001b[1m1s\u001b[0m 120ms/step - bbox_output_loss: 0.0149 - bbox_output_mse: 0.0149 - class_output_accuracy: 0.9950 - class_output_loss: 0.0181 - loss: 0.0330 - val_bbox_output_loss: 0.0192 - val_bbox_output_mse: 0.0191 - val_class_output_accuracy: 0.9375 - val_class_output_loss: 0.1099 - val_loss: 0.1251\n",
      "Epoch 14/20\n",
      "\u001b[1m6/6\u001b[0m \u001b[32m━━━━━━━━━━━━━━━━━━━━\u001b[0m\u001b[37m\u001b[0m \u001b[1m1s\u001b[0m 84ms/step - bbox_output_loss: 0.0124 - bbox_output_mse: 0.0124 - class_output_accuracy: 1.0000 - class_output_loss: 0.0172 - loss: 0.0296 - val_bbox_output_loss: 0.0222 - val_bbox_output_mse: 0.0220 - val_class_output_accuracy: 0.9792 - val_class_output_loss: 0.0673 - val_loss: 0.1004\n",
      "Epoch 15/20\n",
      "\u001b[1m6/6\u001b[0m \u001b[32m━━━━━━━━━━━━━━━━━━━━\u001b[0m\u001b[37m\u001b[0m \u001b[1m0s\u001b[0m 58ms/step - bbox_output_loss: 0.0127 - bbox_output_mse: 0.0127 - class_output_accuracy: 1.0000 - class_output_loss: 0.0092 - loss: 0.0220 - val_bbox_output_loss: 0.0211 - val_bbox_output_mse: 0.0211 - val_class_output_accuracy: 0.9583 - val_class_output_loss: 0.0439 - val_loss: 0.0735\n",
      "Epoch 16/20\n",
      "\u001b[1m6/6\u001b[0m \u001b[32m━━━━━━━━━━━━━━━━━━━━\u001b[0m\u001b[37m\u001b[0m \u001b[1m0s\u001b[0m 55ms/step - bbox_output_loss: 0.0124 - bbox_output_mse: 0.0124 - class_output_accuracy: 1.0000 - class_output_loss: 0.0094 - loss: 0.0218 - val_bbox_output_loss: 0.0208 - val_bbox_output_mse: 0.0212 - val_class_output_accuracy: 0.9792 - val_class_output_loss: 0.0427 - val_loss: 0.0695\n",
      "Epoch 17/20\n",
      "\u001b[1m6/6\u001b[0m \u001b[32m━━━━━━━━━━━━━━━━━━━━\u001b[0m\u001b[37m\u001b[0m \u001b[1m0s\u001b[0m 64ms/step - bbox_output_loss: 0.0115 - bbox_output_mse: 0.0115 - class_output_accuracy: 1.0000 - class_output_loss: 0.0054 - loss: 0.0169 - val_bbox_output_loss: 0.0224 - val_bbox_output_mse: 0.0222 - val_class_output_accuracy: 0.9792 - val_class_output_loss: 0.0396 - val_loss: 0.0669\n",
      "Epoch 18/20\n",
      "\u001b[1m6/6\u001b[0m \u001b[32m━━━━━━━━━━━━━━━━━━━━\u001b[0m\u001b[37m\u001b[0m \u001b[1m1s\u001b[0m 62ms/step - bbox_output_loss: 0.0139 - bbox_output_mse: 0.0139 - class_output_accuracy: 1.0000 - class_output_loss: 0.0023 - loss: 0.0162 - val_bbox_output_loss: 0.0186 - val_bbox_output_mse: 0.0188 - val_class_output_accuracy: 0.9792 - val_class_output_loss: 0.0328 - val_loss: 0.0570\n",
      "Epoch 19/20\n",
      "\u001b[1m6/6\u001b[0m \u001b[32m━━━━━━━━━━━━━━━━━━━━\u001b[0m\u001b[37m\u001b[0m \u001b[1m1s\u001b[0m 71ms/step - bbox_output_loss: 0.0127 - bbox_output_mse: 0.0127 - class_output_accuracy: 1.0000 - class_output_loss: 0.0029 - loss: 0.0156 - val_bbox_output_loss: 0.0199 - val_bbox_output_mse: 0.0196 - val_class_output_accuracy: 1.0000 - val_class_output_loss: 0.0279 - val_loss: 0.0549\n",
      "Epoch 20/20\n",
      "\u001b[1m6/6\u001b[0m \u001b[32m━━━━━━━━━━━━━━━━━━━━\u001b[0m\u001b[37m\u001b[0m \u001b[1m1s\u001b[0m 71ms/step - bbox_output_loss: 0.0135 - bbox_output_mse: 0.0135 - class_output_accuracy: 1.0000 - class_output_loss: 0.0025 - loss: 0.0160 - val_bbox_output_loss: 0.0191 - val_bbox_output_mse: 0.0193 - val_class_output_accuracy: 1.0000 - val_class_output_loss: 0.0279 - val_loss: 0.0547\n"
     ]
    }
   ],
   "source": [
    "# Suppress all warnings\n",
    "import warnings\n",
    "warnings.filterwarnings('ignore')\n",
    "history = model.fit(X_train,\n",
    "                   {'class_output': y_train, 'bbox_output': bboxes_train},\n",
    "                   validation_data=(X_val, {'class_output': y_val, 'bbox_output': bboxes_val}),\n",
    "                   epochs=20,\n",
    "                   batch_size=32)"
   ]
  },
  {
   "cell_type": "code",
   "execution_count": 13,
   "id": "6dd44523-eee1-4518-9c2f-90f803bdf24e",
   "metadata": {},
   "outputs": [
    {
     "name": "stdout",
     "output_type": "stream",
     "text": [
      "\u001b[1m1/1\u001b[0m \u001b[32m━━━━━━━━━━━━━━━━━━━━\u001b[0m\u001b[37m\u001b[0m \u001b[1m2s\u001b[0m 2s/step\n",
      "Detection result saved as 'detection_result.jpg'\n"
     ]
    }
   ],
   "source": [
    "def visualize_detection(model, image_path, class_names, confidence_thresh=0.5):\n",
    "    # Load and preprocess image\n",
    "    image = cv2.imread(image_path)\n",
    "    if image is None:\n",
    "        print(f\"Error loading {image_path}\")\n",
    "        return None\n",
    "    \n",
    "    orig_image = image.copy()\n",
    "    h, w = image.shape[:2]\n",
    "    image = cv2.resize(image, (224, 224))\n",
    "    input_img = np.expand_dims(image.astype('float32') / 255.0, axis=0)\n",
    "    \n",
    "    # Predict\n",
    "    class_probs, bbox = model.predict(input_img)\n",
    "    class_id = np.argmax(class_probs)\n",
    "    confidence = np.max(class_probs)\n",
    "    \n",
    "    if confidence > confidence_thresh:\n",
    "        # Scale bbox back to original image size\n",
    "        xmin, ymin, xmax, ymax = bbox[0]\n",
    "        xmin = int(xmin * w)\n",
    "        ymin = int(ymin * h)\n",
    "        xmax = int(xmax * w)\n",
    "        ymax = int(ymax * h)\n",
    "        \n",
    "        # Draw bounding box and label\n",
    "        cv2.rectangle(orig_image, (xmin, ymin), (xmax, ymax), (0, 255, 0), 2)\n",
    "        label = f\"{class_names[class_id]}: {confidence:.2f}\"\n",
    "        cv2.putText(orig_image, label, (xmin, ymin-10),\n",
    "                   cv2.FONT_HERSHEY_SIMPLEX, 0.5, (0, 255, 0), 2)\n",
    "    \n",
    "    return orig_image\n",
    "\n",
    "# Test on a sample image\n",
    "test_img_path = os.path.join(test_img_dir, os.listdir(test_img_dir)[0])\n",
    "result = visualize_detection(model, test_img_path, classes)\n",
    "if result is not None:\n",
    "    cv2.imwrite('detection_result.jpg', result)\n",
    "    print(\"Detection result saved as 'detection_result.jpg'\")"
   ]
  }
 ],
 "metadata": {
  "kernelspec": {
   "display_name": "Python 3 (ipykernel)",
   "language": "python",
   "name": "python3"
  },
  "language_info": {
   "codemirror_mode": {
    "name": "ipython",
    "version": 3
   },
   "file_extension": ".py",
   "mimetype": "text/x-python",
   "name": "python",
   "nbconvert_exporter": "python",
   "pygments_lexer": "ipython3",
   "version": "3.12.11"
  }
 },
 "nbformat": 4,
 "nbformat_minor": 5
}
